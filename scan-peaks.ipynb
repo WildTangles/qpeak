{
 "cells": [
  {
   "cell_type": "markdown",
   "metadata": {},
   "source": [
    "# DEMO"
   ]
  },
  {
   "cell_type": "code",
   "execution_count": null,
   "metadata": {},
   "outputs": [],
   "source": [
    "from qutip import *\n",
    "import numpy as np \n",
    "import matplotlib.pyplot as plt\n",
    "import math\n",
    "from skimage.feature import peak_local_max\n",
    "import pickle\n",
    "import os\n",
    "\n",
    "%matplotlib inline"
   ]
  },
  {
   "cell_type": "code",
   "execution_count": null,
   "metadata": {},
   "outputs": [],
   "source": [
    "EList = np.linspace(0.0093,0.013,20)\n",
    "wdList = np.linspace(10.57,10.70,20)"
   ]
  },
  {
   "cell_type": "code",
   "execution_count": null,
   "metadata": {},
   "outputs": [],
   "source": [
    "savedInfo = {}"
   ]
  },
  {
   "cell_type": "code",
   "execution_count": null,
   "metadata": {},
   "outputs": [],
   "source": [
    "def routine(E_i,wd_i):\n",
    "    \n",
    "    print('running param set {} {}'.format(E_i, wd_i))\n",
    "    \n",
    "    # Define all the variables \n",
    "    kappa = 0.0012 # 0.0012 \n",
    "    gJC = 0.3347 # 0.3347\n",
    "    wc = 10.5665 # Cavity frequency/detuning 10.5665\n",
    "    w0 = 8.1831 # Qubit frequency 8.1831\n",
    "    gamma=0.0001 # 0.0001\n",
    "    Emax =0.01 # 0.01\n",
    "    EN=1\n",
    "    #E = 0.01 #0.01(original) # Epsilon\n",
    "    E = E_i\n",
    "    N = 50 #50\n",
    "    nloop = 1\n",
    "\n",
    "    #wd = 10.6005 # Driving frequency (10.6005 original)\n",
    "    wd = wd_i\n",
    "    wlist = np.linspace(wd, wd,nloop)\n",
    "\n",
    "    # Identity operators are defined for the space of the light field and the space of the atom\n",
    "\n",
    "    ida = identity(N)\n",
    "    idatom = identity(2)\n",
    "\n",
    "    # Define cavity field and atomic operators\n",
    "\n",
    "    a  = tensor(destroy(N),idatom)\n",
    "    sm = tensor(ida,sigmam())\n",
    "\n",
    "    # Hamiltonian # Reminder check hamiltonian from caltech paper\n",
    "\n",
    "    H1= 1*gJC*(a.dag()*sm + sm.dag()*a) + 1*E*(a+a.dag())\n",
    "\n",
    "    # Collapse Operators\n",
    "\n",
    "    C1    = math.sqrt(kappa)*a\n",
    "    C2    = math.sqrt(gamma)*sm\n",
    "\n",
    "    C1dC1 = C1.dag()*C1\n",
    "    C2dC2 = C2.dag()*C2\n",
    "\n",
    "    # Calculate the Liouvillian\n",
    "\n",
    "    L1 = spre(C1)*spost(C1.dag())-0.5*spre(C1dC1)-0.5*spost(C1dC1)\n",
    "    L2 = spre(C2)*spost(C2.dag())-0.5*spre(C2dC2)-0.5*spost(C2dC2)\n",
    "    L12  = L1+L2\n",
    "\n",
    "    gQ=math.sqrt(4)\n",
    "    xvec=  np.arange(-10,10.01,0.025) # 0.025\n",
    "    yvec = np.arange(-10,10.01,0.025) \n",
    "\n",
    "    #print(\"epsilon\", E)\n",
    "    #print(\"and drive frequency\", wd)\n",
    "    #print(\"kappa\", kappa)\n",
    "    k=0\n",
    "    while k < nloop :\n",
    "        wl = wlist[k]    \n",
    "        H = (w0-wl)*(sm.dag()*sm) + (wc-wl)*(a.dag()*a) + H1    \n",
    "        LH = -complex(0,1) * (spre(H) - spost(H))\n",
    "        L_final = LH + L12\n",
    "\n",
    "        # Steady States\n",
    "\n",
    "        rhoss = steadystate(L_final)\n",
    "        rhosscav=ptrace(rhoss,0)\n",
    "        rhocavsq=rhosscav*rhosscav\n",
    "\n",
    "        #subplot(ceil(sqrt(nloop)), \n",
    "        #ceil(sqrt(nloop)), k)\n",
    "#         fig, ax = plt.subplots()\n",
    "        Q3 = qfunc(rhosscav,xvec,yvec,gQ)\n",
    "#         c = ax.contourf(xvec, yvec, np.real(Q3), 500, cmap=plt.cm.get_cmap('winter'))\n",
    "\n",
    "#         ax.set_xlim([-3.5, 6]) # -3.5 to 6\n",
    "#         ax.set_ylim([-4, 3])\n",
    "#         plt.colorbar(c, ax=ax)\n",
    "#         plt.xlabel('x')\n",
    "#         plt.ylabel('y')\n",
    "\n",
    "        k += 1\n",
    "        #contour(xvec,yvec,real(Q3), 500)\n",
    "        #plt.plot(xvec,yvec)\n",
    "        #plt.show()\n",
    "        #print(rhosscav)\n",
    "        #print(rhoss)\n",
    "    \n",
    "    coordinates = peak_local_max(Q3)\n",
    "    #print(coordinates)\n",
    "    #print (Q3[coordinates])\n",
    "    \n",
    "    newKey = len(savedInfo.keys()) + 1\n",
    "    \n",
    "    infoPacket = {}\n",
    "    infoPacket['E_i'] = E_i\n",
    "    infoPacket['wd_i'] = wd_i\n",
    "    infoPacket['coors'] = coordinates\n",
    "    infoPacket['peaks'] = Q3[coordinates]\n",
    "    infoPacket['Q3'] = Q3\n",
    "    infoPacket['xvec'] = xvec\n",
    "    infoPacket['yvec'] = yvec\n",
    "    savedInfo[str(newKey)] = infoPacket        "
   ]
  },
  {
   "cell_type": "code",
   "execution_count": null,
   "metadata": {},
   "outputs": [],
   "source": [
    "for E_i in EList:\n",
    "    for wd_i in wdList:\n",
    "        routine(E_i,wd_i)\n",
    "        if os.path.isfile('test.qpeaks'):\n",
    "            os.remove('test.qpeaks')\n",
    "        pickle.dump(savedInfo,open('test.qpeaks','wb'))"
   ]
  },
  {
   "cell_type": "code",
   "execution_count": null,
   "metadata": {},
   "outputs": [],
   "source": [
    "savedInfoTest = pickle.load(open('test.qpeaks', 'rb'))\n",
    "print(savedInfoTest.keys())"
   ]
  }
 ],
 "metadata": {
  "kernelspec": {
   "display_name": "Python 3",
   "language": "python",
   "name": "python3"
  },
  "language_info": {
   "codemirror_mode": {
    "name": "ipython",
    "version": 3
   },
   "file_extension": ".py",
   "mimetype": "text/x-python",
   "name": "python",
   "nbconvert_exporter": "python",
   "pygments_lexer": "ipython3",
   "version": "3.6.5"
  }
 },
 "nbformat": 4,
 "nbformat_minor": 2
}
